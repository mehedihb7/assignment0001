{
 "cells": [
  {
   "cell_type": "markdown",
   "id": "48e2834b-94a5-4511-bfdb-04ce5ce634fc",
   "metadata": {},
   "source": [
    "Q1. Create one variable containing following type of data:\n",
    "\n",
    "(i) string = \"Mehedi\"\n",
    "\n",
    "(ii) list = [1,2,h,k]\n",
    "\n",
    "(iii) float = 9.95\n",
    "\n",
    "(iv) tuple = (\"mom\",\"dad\")"
   ]
  },
  {
   "cell_type": "markdown",
   "id": "b792deb5-ada8-487f-bac7-81fe9079a18d",
   "metadata": {},
   "source": [
    "Q2. Given are some following variables containing data:\n",
    "\n",
    "(i) var1 = ‘ ‘ = space\n",
    "\n",
    "(ii) var2 = ‘[ DS , ML , Python]’ = string\n",
    "\n",
    "(iii) var3 = [ ‘DS’ , ’ML’ , ‘Python’ ] = list\n",
    "\n",
    "(iv) var4 = 1. = integer"
   ]
  },
  {
   "cell_type": "code",
   "execution_count": 1,
   "id": "89852f1d-e507-4b9d-a960-44f56078354b",
   "metadata": {},
   "outputs": [
    {
     "name": "stdout",
     "output_type": "stream",
     "text": [
      "5.0\n",
      "1\n",
      "3\n",
      "9\n"
     ]
    }
   ],
   "source": [
    "# Q3. Explain the use of the following operators using an example:\n",
    "\n",
    "#(i) / = Division Operator \n",
    "    \n",
    "a = 25\n",
    "b = 5\n",
    "r = a / b\n",
    "print(r)\n",
    "\n",
    "#(ii) % = Modulo Operator\n",
    "c = 10\n",
    "d = 3\n",
    "r = c % d\n",
    "print(r)\n",
    "\n",
    "\n",
    "#(iii) // = Floor Division Operator\n",
    "e = 10\n",
    "f = 3\n",
    "r = e // f\n",
    "print(r)\n",
    "\n",
    "#(iv) ** = Exponentiation Operator\n",
    "\n",
    "g = 3\n",
    "h = 2\n",
    "r = g ** h\n",
    "print(r)"
   ]
  },
  {
   "cell_type": "code",
   "execution_count": 2,
   "id": "b29ba4f7-dfff-49c1-857b-4b013ba48fe6",
   "metadata": {},
   "outputs": [
    {
     "name": "stdout",
     "output_type": "stream",
     "text": [
      "50 <class 'int'>\n",
      "mehedi <class 'str'>\n",
      "True <class 'bool'>\n",
      "False <class 'bool'>\n",
      "None <class 'NoneType'>\n",
      "(1, 2, 3) <class 'tuple'>\n",
      "(5+6j) <class 'complex'>\n",
      "[1, 2, 3] <class 'list'>\n",
      "sad <class 'str'>\n",
      "3.563 <class 'float'>\n"
     ]
    }
   ],
   "source": [
    "#Q4. Create a list of length 10 of your choice containing multiple types of data. Using for loop print the \n",
    "#element and its data type\n",
    "\n",
    "l = [50, 'mehedi', True, False, None, (1, 2, 3), 5 + 6j, [1, 2, 3], 'sad', 3.563]\n",
    "for i in l:\n",
    "    print(i, type(i))"
   ]
  },
  {
   "cell_type": "code",
   "execution_count": 3,
   "id": "2f6230cc-15f6-4a70-8675-186ccff2375f",
   "metadata": {},
   "outputs": [
    {
     "name": "stdout",
     "output_type": "stream",
     "text": [
      "Number A is divisible by number B only 3 times.\n"
     ]
    }
   ],
   "source": [
    "#Q5. Using a while loop, verify if the number A is purely divisible by number B and if so then how many \n",
    "#times it can be divisible\n",
    "\n",
    "A = 500\n",
    "B = 5\n",
    "count = 0\n",
    "\n",
    "while A % B == 0:\n",
    "    A = A / B\n",
    "    count += 1\n",
    "\n",
    "print(\"Number A is divisible by number B only\", count, \"times.\")"
   ]
  },
  {
   "cell_type": "code",
   "execution_count": 4,
   "id": "2454db30-8f8a-457d-b5f6-cb4efd095ef1",
   "metadata": {},
   "outputs": [
    {
     "name": "stdout",
     "output_type": "stream",
     "text": [
      "10 is not divisible by 3\n",
      "11 is not divisible by 3\n",
      "12 is divisible by 3\n",
      "13 is not divisible by 3\n",
      "14 is not divisible by 3\n",
      "15 is divisible by 3\n",
      "16 is not divisible by 3\n",
      "17 is not divisible by 3\n",
      "18 is divisible by 3\n",
      "19 is not divisible by 3\n",
      "20 is not divisible by 3\n",
      "21 is divisible by 3\n",
      "22 is not divisible by 3\n",
      "23 is not divisible by 3\n",
      "24 is divisible by 3\n",
      "25 is not divisible by 3\n",
      "26 is not divisible by 3\n",
      "27 is divisible by 3\n",
      "28 is not divisible by 3\n",
      "29 is not divisible by 3\n",
      "30 is divisible by 3\n",
      "31 is not divisible by 3\n",
      "32 is not divisible by 3\n",
      "33 is divisible by 3\n",
      "34 is not divisible by 3\n"
     ]
    }
   ],
   "source": [
    "#Q6. Create a list containing 25 int type data. Using for loop and if-else condition print if the element is \n",
    "#divisible by 3 or not.\n",
    "\n",
    "num = [10,11,12,13,14,15,16,17,18,19,20,21,22,23,24,25,26,27,28,29,30,31,32,33,34]\n",
    "\n",
    "for i in num:\n",
    "    if i % 3 == 0:\n",
    "        print (i, \"is divisible by 3\")\n",
    "    else:\n",
    "         print (i, \"is not divisible by 3\")"
   ]
  },
  {
   "cell_type": "code",
   "execution_count": 5,
   "id": "a167372a-4479-4b56-bcc7-4e692661e130",
   "metadata": {},
   "outputs": [
    {
     "name": "stdout",
     "output_type": "stream",
     "text": [
      "[1, 2, 3, 'rahul', True]\n"
     ]
    },
    {
     "ename": "TypeError",
     "evalue": "'str' object does not support item assignment",
     "output_type": "error",
     "traceback": [
      "\u001b[0;31m---------------------------------------------------------------------------\u001b[0m",
      "\u001b[0;31mTypeError\u001b[0m                                 Traceback (most recent call last)",
      "Cell \u001b[0;32mIn[5], line 17\u001b[0m\n\u001b[1;32m     14\u001b[0m \u001b[38;5;66;03m#immutable:\u001b[39;00m\n\u001b[1;32m     16\u001b[0m m \u001b[38;5;241m=\u001b[39m \u001b[38;5;124m'\u001b[39m\u001b[38;5;124mmehedi\u001b[39m\u001b[38;5;124m'\u001b[39m\n\u001b[0;32m---> 17\u001b[0m \u001b[43mm\u001b[49m\u001b[43m[\u001b[49m\u001b[38;5;241;43m3\u001b[39;49m\u001b[43m]\u001b[49m \u001b[38;5;241m=\u001b[39m \u001b[38;5;124m'\u001b[39m\u001b[38;5;124ma\u001b[39m\u001b[38;5;124m'\u001b[39m\n",
      "\u001b[0;31mTypeError\u001b[0m: 'str' object does not support item assignment"
     ]
    }
   ],
   "source": [
    "#Q7. What do you understand about mutable and immutable data types? Give examples for both showing \n",
    "#this property.\n",
    "\n",
    "#Mutable data types can be modified after they are created but we can not update or modify immutable data types.It means \n",
    "# in imutable data types  we can not change at a particular index. For example, list is mutable but string is not.\n",
    "\n",
    "#examples:\n",
    " \n",
    "#mutable:    \n",
    "l = [1,2,3,'mehedi',True]\n",
    "l[3]='rahul'    \n",
    "print(l)\n",
    "\n",
    "#immutable:\n",
    "\n",
    "m = 'mehedi'\n",
    "m[3] = 'a'"
   ]
  },
  {
   "cell_type": "code",
   "execution_count": null,
   "id": "0c26e2cd-42d0-4c9e-8e68-5e5b6809c2fe",
   "metadata": {},
   "outputs": [],
   "source": []
  }
 ],
 "metadata": {
  "kernelspec": {
   "display_name": "Python 3 (ipykernel)",
   "language": "python",
   "name": "python3"
  },
  "language_info": {
   "codemirror_mode": {
    "name": "ipython",
    "version": 3
   },
   "file_extension": ".py",
   "mimetype": "text/x-python",
   "name": "python",
   "nbconvert_exporter": "python",
   "pygments_lexer": "ipython3",
   "version": "3.10.8"
  }
 },
 "nbformat": 4,
 "nbformat_minor": 5
}
